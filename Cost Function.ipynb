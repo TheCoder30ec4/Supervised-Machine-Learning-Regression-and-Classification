{
 "cells": [
  {
   "cell_type": "code",
   "execution_count": 8,
   "id": "e88123f8-4728-47b8-87d5-9aac8586f971",
   "metadata": {},
   "outputs": [],
   "source": [
    "import numpy as np\n",
    "import matplotlib.pyplot as plt\n",
    "\n"
   ]
  },
  {
   "cell_type": "code",
   "execution_count": 7,
   "id": "aa993d5b-75d4-4ba2-a965-9b009c75336f",
   "metadata": {},
   "outputs": [
    {
     "name": "stdout",
     "output_type": "stream",
     "text": [
      "Requirement already satisfied: lab_utils in c:\\users\\varun\\anaconda3\\lib\\site-packages (0.5.12)\n",
      "Requirement already satisfied: psycopg2 in c:\\users\\varun\\anaconda3\\lib\\site-packages (from lab_utils) (2.9.9)\n",
      "Requirement already satisfied: zc.lockfile in c:\\users\\varun\\anaconda3\\lib\\site-packages (from lab_utils) (3.0.post1)\n",
      "Requirement already satisfied: python-json-logger in c:\\users\\varun\\anaconda3\\lib\\site-packages (from lab_utils) (2.0.7)\n",
      "Requirement already satisfied: slacker-log-handler in c:\\users\\varun\\anaconda3\\lib\\site-packages (from lab_utils) (1.8.0)\n",
      "Requirement already satisfied: pandas in c:\\users\\varun\\anaconda3\\lib\\site-packages (from lab_utils) (2.1.4)\n",
      "Requirement already satisfied: numpy<2,>=1.23.2 in c:\\users\\varun\\anaconda3\\lib\\site-packages (from pandas->lab_utils) (1.26.4)\n",
      "Requirement already satisfied: python-dateutil>=2.8.2 in c:\\users\\varun\\anaconda3\\lib\\site-packages (from pandas->lab_utils) (2.8.2)\n",
      "Requirement already satisfied: pytz>=2020.1 in c:\\users\\varun\\anaconda3\\lib\\site-packages (from pandas->lab_utils) (2023.3.post1)\n",
      "Requirement already satisfied: tzdata>=2022.1 in c:\\users\\varun\\anaconda3\\lib\\site-packages (from pandas->lab_utils) (2023.3)\n",
      "Requirement already satisfied: slacker<=0.9.65,>=0.7.3 in c:\\users\\varun\\anaconda3\\lib\\site-packages (from slacker-log-handler->lab_utils) (0.9.65)\n",
      "Requirement already satisfied: six>=1.11.0 in c:\\users\\varun\\anaconda3\\lib\\site-packages (from slacker-log-handler->lab_utils) (1.16.0)\n",
      "Requirement already satisfied: setuptools in c:\\users\\varun\\anaconda3\\lib\\site-packages (from zc.lockfile->lab_utils) (68.2.2)\n",
      "Requirement already satisfied: requests>=2.2.1 in c:\\users\\varun\\anaconda3\\lib\\site-packages (from slacker<=0.9.65,>=0.7.3->slacker-log-handler->lab_utils) (2.31.0)\n",
      "Requirement already satisfied: charset-normalizer<4,>=2 in c:\\users\\varun\\anaconda3\\lib\\site-packages (from requests>=2.2.1->slacker<=0.9.65,>=0.7.3->slacker-log-handler->lab_utils) (2.0.4)\n",
      "Requirement already satisfied: idna<4,>=2.5 in c:\\users\\varun\\anaconda3\\lib\\site-packages (from requests>=2.2.1->slacker<=0.9.65,>=0.7.3->slacker-log-handler->lab_utils) (3.4)\n",
      "Requirement already satisfied: urllib3<3,>=1.21.1 in c:\\users\\varun\\anaconda3\\lib\\site-packages (from requests>=2.2.1->slacker<=0.9.65,>=0.7.3->slacker-log-handler->lab_utils) (2.0.7)\n",
      "Requirement already satisfied: certifi>=2017.4.17 in c:\\users\\varun\\anaconda3\\lib\\site-packages (from requests>=2.2.1->slacker<=0.9.65,>=0.7.3->slacker-log-handler->lab_utils) (2024.2.2)\n"
     ]
    }
   ],
   "source": [
    "!pip install lab_utils"
   ]
  },
  {
   "cell_type": "code",
   "execution_count": 9,
   "id": "97d7c118-1871-4823-baa1-16a443284c98",
   "metadata": {},
   "outputs": [],
   "source": [
    "x_train = np.array([1.0,2.0])\n",
    "y_train = np.array([300.0,500.0])"
   ]
  },
  {
   "cell_type": "code",
   "execution_count": 11,
   "id": "5693c371-d119-466a-9369-14bcd6d73a14",
   "metadata": {},
   "outputs": [],
   "source": [
    "def computer_cost(x,y,w,b):\n",
    "\n",
    "    m = x.shape[0]\n",
    "\n",
    "    cost_sum = 0\n",
    "    for i in range(m):\n",
    "        f_wb = w*x[i]+b\n",
    "        cost = (f_wb-y[i])**2\n",
    "        cost_sum = cost_sum + cost\n",
    "    total_cost = (1/(2*m))*cost_sum\n",
    "\n",
    "    return total_cost\n"
   ]
  },
  {
   "cell_type": "code",
   "execution_count": null,
   "id": "e1c9e338-6241-4967-bd83-0f180a78ce03",
   "metadata": {},
   "outputs": [],
   "source": []
  }
 ],
 "metadata": {
  "kernelspec": {
   "display_name": "Python 3 (ipykernel)",
   "language": "python",
   "name": "python3"
  },
  "language_info": {
   "codemirror_mode": {
    "name": "ipython",
    "version": 3
   },
   "file_extension": ".py",
   "mimetype": "text/x-python",
   "name": "python",
   "nbconvert_exporter": "python",
   "pygments_lexer": "ipython3",
   "version": "3.11.7"
  }
 },
 "nbformat": 4,
 "nbformat_minor": 5
}
